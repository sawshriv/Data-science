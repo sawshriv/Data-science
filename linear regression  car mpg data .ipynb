{
 "cells": [
  {
   "cell_type": "markdown",
   "id": "a9117c07",
   "metadata": {},
   "source": [
    "##  Assumptions of linear regression "
   ]
  },
  {
   "cell_type": "markdown",
   "id": "47c36b03",
   "metadata": {},
   "source": [
    "##1  assumption (1) -  linear reg needslinear  relation betwen independent(x) and dependent variable (y)\n",
    "                      # it is very senstive to outliers (check outlier  before applying it )\n",
    "    \n",
    "    \n",
    "##2  assumption (2) -  normality-  all variables to be normally distributed . the error terms should be normally distributed\n",
    "\n",
    "##3  ASSUMPT    (3) -  multicolinearity -  there should be very little or no multicolinearity , it happens when idependent \n",
    "                      # varibales are highly correlated with eaach other\n",
    "    \n",
    "##methods to calculate multi collinearity / detect \n",
    "\n",
    "#\n",
    "- a. correl matrix (heat map)\n",
    "\n",
    "- b  variance inflating factor(vif)\n",
    "\n",
    "- c  homoscadastiy :  the eror must have constant variance with respect to the regression line .this phenomenon is \n",
    "  known as homoscadastisiy , the presence of non- constant variance is referred to as hetroscadastiy\n",
    "  \n",
    "##4  ASSumpt (4)  autocorrrelation   : -  there should be no correl between the residual (error)terms. \n",
    "    "
   ]
  },
  {
   "cell_type": "code",
   "execution_count": 1,
   "id": "b4d7847e",
   "metadata": {
    "ExecuteTime": {
     "end_time": "2022-06-16T10:11:41.163600Z",
     "start_time": "2022-06-16T10:11:41.156604Z"
    }
   },
   "outputs": [],
   "source": [
    "#   learn  homoscadasticity for interview "
   ]
  },
  {
   "cell_type": "code",
   "execution_count": 2,
   "id": "eea3fa1c",
   "metadata": {
    "ExecuteTime": {
     "end_time": "2022-06-16T10:21:37.097564Z",
     "start_time": "2022-06-16T10:21:37.092566Z"
    }
   },
   "outputs": [],
   "source": [
    "import pandas as pd \n",
    "import numpy as np \n",
    "import matplotlib.pyplot as plt \n",
    "import seaborn as sns\n",
    "from sklearn.model_selection import train_test_split\n",
    "from sklearn.linear_model import LinearRegression\n",
    "from sklearn.metrics import r2_score,mean_squared_error"
   ]
  },
  {
   "cell_type": "code",
   "execution_count": 3,
   "id": "d631c01f",
   "metadata": {
    "ExecuteTime": {
     "end_time": "2022-06-16T10:11:43.380310Z",
     "start_time": "2022-06-16T10:11:43.365026Z"
    }
   },
   "outputs": [],
   "source": [
    "df = pd .read_csv('car-mpg_students.csv')"
   ]
  },
  {
   "cell_type": "code",
   "execution_count": 4,
   "id": "18da87ea",
   "metadata": {
    "ExecuteTime": {
     "end_time": "2022-06-16T10:11:43.475525Z",
     "start_time": "2022-06-16T10:11:43.383307Z"
    }
   },
   "outputs": [
    {
     "data": {
      "text/html": [
       "<div>\n",
       "<style scoped>\n",
       "    .dataframe tbody tr th:only-of-type {\n",
       "        vertical-align: middle;\n",
       "    }\n",
       "\n",
       "    .dataframe tbody tr th {\n",
       "        vertical-align: top;\n",
       "    }\n",
       "\n",
       "    .dataframe thead th {\n",
       "        text-align: right;\n",
       "    }\n",
       "</style>\n",
       "<table border=\"1\" class=\"dataframe\">\n",
       "  <thead>\n",
       "    <tr style=\"text-align: right;\">\n",
       "      <th></th>\n",
       "      <th>mpg</th>\n",
       "      <th>cyl</th>\n",
       "      <th>disp</th>\n",
       "      <th>hp</th>\n",
       "      <th>wt</th>\n",
       "      <th>acc</th>\n",
       "      <th>yr</th>\n",
       "      <th>origin</th>\n",
       "      <th>car_type</th>\n",
       "      <th>car_name</th>\n",
       "    </tr>\n",
       "  </thead>\n",
       "  <tbody>\n",
       "    <tr>\n",
       "      <th>0</th>\n",
       "      <td>18.0</td>\n",
       "      <td>8</td>\n",
       "      <td>307.0</td>\n",
       "      <td>130</td>\n",
       "      <td>3504</td>\n",
       "      <td>12.0</td>\n",
       "      <td>70</td>\n",
       "      <td>1</td>\n",
       "      <td>0</td>\n",
       "      <td>chevrolet chevelle malibu</td>\n",
       "    </tr>\n",
       "    <tr>\n",
       "      <th>1</th>\n",
       "      <td>15.0</td>\n",
       "      <td>8</td>\n",
       "      <td>350.0</td>\n",
       "      <td>165</td>\n",
       "      <td>3693</td>\n",
       "      <td>11.5</td>\n",
       "      <td>70</td>\n",
       "      <td>1</td>\n",
       "      <td>0</td>\n",
       "      <td>buick skylark 320</td>\n",
       "    </tr>\n",
       "    <tr>\n",
       "      <th>2</th>\n",
       "      <td>18.0</td>\n",
       "      <td>8</td>\n",
       "      <td>318.0</td>\n",
       "      <td>150</td>\n",
       "      <td>3436</td>\n",
       "      <td>11.0</td>\n",
       "      <td>70</td>\n",
       "      <td>1</td>\n",
       "      <td>0</td>\n",
       "      <td>plymouth satellite</td>\n",
       "    </tr>\n",
       "    <tr>\n",
       "      <th>3</th>\n",
       "      <td>16.0</td>\n",
       "      <td>8</td>\n",
       "      <td>304.0</td>\n",
       "      <td>150</td>\n",
       "      <td>3433</td>\n",
       "      <td>12.0</td>\n",
       "      <td>70</td>\n",
       "      <td>1</td>\n",
       "      <td>0</td>\n",
       "      <td>amc rebel sst</td>\n",
       "    </tr>\n",
       "    <tr>\n",
       "      <th>4</th>\n",
       "      <td>17.0</td>\n",
       "      <td>8</td>\n",
       "      <td>302.0</td>\n",
       "      <td>140</td>\n",
       "      <td>3449</td>\n",
       "      <td>10.5</td>\n",
       "      <td>70</td>\n",
       "      <td>1</td>\n",
       "      <td>0</td>\n",
       "      <td>ford torino</td>\n",
       "    </tr>\n",
       "  </tbody>\n",
       "</table>\n",
       "</div>"
      ],
      "text/plain": [
       "    mpg  cyl   disp   hp    wt   acc  yr  origin  car_type  \\\n",
       "0  18.0    8  307.0  130  3504  12.0  70       1         0   \n",
       "1  15.0    8  350.0  165  3693  11.5  70       1         0   \n",
       "2  18.0    8  318.0  150  3436  11.0  70       1         0   \n",
       "3  16.0    8  304.0  150  3433  12.0  70       1         0   \n",
       "4  17.0    8  302.0  140  3449  10.5  70       1         0   \n",
       "\n",
       "                    car_name  \n",
       "0  chevrolet chevelle malibu  \n",
       "1          buick skylark 320  \n",
       "2         plymouth satellite  \n",
       "3              amc rebel sst  \n",
       "4                ford torino  "
      ]
     },
     "execution_count": 4,
     "metadata": {},
     "output_type": "execute_result"
    }
   ],
   "source": [
    "df.head()"
   ]
  },
  {
   "cell_type": "code",
   "execution_count": 5,
   "id": "fbf2920c",
   "metadata": {
    "ExecuteTime": {
     "end_time": "2022-06-16T10:11:43.558359Z",
     "start_time": "2022-06-16T10:11:43.479523Z"
    }
   },
   "outputs": [
    {
     "name": "stdout",
     "output_type": "stream",
     "text": [
      "<class 'pandas.core.frame.DataFrame'>\n",
      "RangeIndex: 398 entries, 0 to 397\n",
      "Data columns (total 10 columns):\n",
      " #   Column    Non-Null Count  Dtype  \n",
      "---  ------    --------------  -----  \n",
      " 0   mpg       398 non-null    float64\n",
      " 1   cyl       398 non-null    int64  \n",
      " 2   disp      398 non-null    float64\n",
      " 3   hp        398 non-null    int64  \n",
      " 4   wt        398 non-null    int64  \n",
      " 5   acc       398 non-null    float64\n",
      " 6   yr        398 non-null    int64  \n",
      " 7   origin    398 non-null    int64  \n",
      " 8   car_type  398 non-null    int64  \n",
      " 9   car_name  398 non-null    object \n",
      "dtypes: float64(3), int64(6), object(1)\n",
      "memory usage: 31.2+ KB\n"
     ]
    }
   ],
   "source": [
    "df.info()"
   ]
  },
  {
   "cell_type": "code",
   "execution_count": 6,
   "id": "eaf8e2bb",
   "metadata": {
    "ExecuteTime": {
     "end_time": "2022-06-16T10:11:43.668766Z",
     "start_time": "2022-06-16T10:11:43.561357Z"
    },
    "scrolled": true
   },
   "outputs": [
    {
     "data": {
      "text/html": [
       "<div>\n",
       "<style scoped>\n",
       "    .dataframe tbody tr th:only-of-type {\n",
       "        vertical-align: middle;\n",
       "    }\n",
       "\n",
       "    .dataframe tbody tr th {\n",
       "        vertical-align: top;\n",
       "    }\n",
       "\n",
       "    .dataframe thead th {\n",
       "        text-align: right;\n",
       "    }\n",
       "</style>\n",
       "<table border=\"1\" class=\"dataframe\">\n",
       "  <thead>\n",
       "    <tr style=\"text-align: right;\">\n",
       "      <th></th>\n",
       "      <th>mpg</th>\n",
       "      <th>cyl</th>\n",
       "      <th>disp</th>\n",
       "      <th>hp</th>\n",
       "      <th>wt</th>\n",
       "      <th>acc</th>\n",
       "      <th>yr</th>\n",
       "      <th>origin</th>\n",
       "      <th>car_type</th>\n",
       "    </tr>\n",
       "  </thead>\n",
       "  <tbody>\n",
       "    <tr>\n",
       "      <th>count</th>\n",
       "      <td>398.000000</td>\n",
       "      <td>398.000000</td>\n",
       "      <td>398.000000</td>\n",
       "      <td>398.000000</td>\n",
       "      <td>398.000000</td>\n",
       "      <td>398.000000</td>\n",
       "      <td>398.000000</td>\n",
       "      <td>398.000000</td>\n",
       "      <td>398.000000</td>\n",
       "    </tr>\n",
       "    <tr>\n",
       "      <th>mean</th>\n",
       "      <td>23.514573</td>\n",
       "      <td>5.454774</td>\n",
       "      <td>193.425879</td>\n",
       "      <td>103.241206</td>\n",
       "      <td>2970.424623</td>\n",
       "      <td>15.568090</td>\n",
       "      <td>76.010050</td>\n",
       "      <td>1.572864</td>\n",
       "      <td>0.530151</td>\n",
       "    </tr>\n",
       "    <tr>\n",
       "      <th>std</th>\n",
       "      <td>7.815984</td>\n",
       "      <td>1.701004</td>\n",
       "      <td>104.269838</td>\n",
       "      <td>39.471217</td>\n",
       "      <td>846.841774</td>\n",
       "      <td>2.757689</td>\n",
       "      <td>3.697627</td>\n",
       "      <td>0.802055</td>\n",
       "      <td>0.499718</td>\n",
       "    </tr>\n",
       "    <tr>\n",
       "      <th>min</th>\n",
       "      <td>9.000000</td>\n",
       "      <td>3.000000</td>\n",
       "      <td>68.000000</td>\n",
       "      <td>23.000000</td>\n",
       "      <td>1613.000000</td>\n",
       "      <td>8.000000</td>\n",
       "      <td>70.000000</td>\n",
       "      <td>1.000000</td>\n",
       "      <td>0.000000</td>\n",
       "    </tr>\n",
       "    <tr>\n",
       "      <th>25%</th>\n",
       "      <td>17.500000</td>\n",
       "      <td>4.000000</td>\n",
       "      <td>104.250000</td>\n",
       "      <td>75.000000</td>\n",
       "      <td>2223.750000</td>\n",
       "      <td>13.825000</td>\n",
       "      <td>73.000000</td>\n",
       "      <td>1.000000</td>\n",
       "      <td>0.000000</td>\n",
       "    </tr>\n",
       "    <tr>\n",
       "      <th>50%</th>\n",
       "      <td>23.000000</td>\n",
       "      <td>4.000000</td>\n",
       "      <td>148.500000</td>\n",
       "      <td>92.000000</td>\n",
       "      <td>2803.500000</td>\n",
       "      <td>15.500000</td>\n",
       "      <td>76.000000</td>\n",
       "      <td>1.000000</td>\n",
       "      <td>1.000000</td>\n",
       "    </tr>\n",
       "    <tr>\n",
       "      <th>75%</th>\n",
       "      <td>29.000000</td>\n",
       "      <td>8.000000</td>\n",
       "      <td>262.000000</td>\n",
       "      <td>125.000000</td>\n",
       "      <td>3608.000000</td>\n",
       "      <td>17.175000</td>\n",
       "      <td>79.000000</td>\n",
       "      <td>2.000000</td>\n",
       "      <td>1.000000</td>\n",
       "    </tr>\n",
       "    <tr>\n",
       "      <th>max</th>\n",
       "      <td>46.600000</td>\n",
       "      <td>8.000000</td>\n",
       "      <td>455.000000</td>\n",
       "      <td>230.000000</td>\n",
       "      <td>5140.000000</td>\n",
       "      <td>24.800000</td>\n",
       "      <td>82.000000</td>\n",
       "      <td>3.000000</td>\n",
       "      <td>1.000000</td>\n",
       "    </tr>\n",
       "  </tbody>\n",
       "</table>\n",
       "</div>"
      ],
      "text/plain": [
       "              mpg         cyl        disp          hp           wt  \\\n",
       "count  398.000000  398.000000  398.000000  398.000000   398.000000   \n",
       "mean    23.514573    5.454774  193.425879  103.241206  2970.424623   \n",
       "std      7.815984    1.701004  104.269838   39.471217   846.841774   \n",
       "min      9.000000    3.000000   68.000000   23.000000  1613.000000   \n",
       "25%     17.500000    4.000000  104.250000   75.000000  2223.750000   \n",
       "50%     23.000000    4.000000  148.500000   92.000000  2803.500000   \n",
       "75%     29.000000    8.000000  262.000000  125.000000  3608.000000   \n",
       "max     46.600000    8.000000  455.000000  230.000000  5140.000000   \n",
       "\n",
       "              acc          yr      origin    car_type  \n",
       "count  398.000000  398.000000  398.000000  398.000000  \n",
       "mean    15.568090   76.010050    1.572864    0.530151  \n",
       "std      2.757689    3.697627    0.802055    0.499718  \n",
       "min      8.000000   70.000000    1.000000    0.000000  \n",
       "25%     13.825000   73.000000    1.000000    0.000000  \n",
       "50%     15.500000   76.000000    1.000000    1.000000  \n",
       "75%     17.175000   79.000000    2.000000    1.000000  \n",
       "max     24.800000   82.000000    3.000000    1.000000  "
      ]
     },
     "execution_count": 6,
     "metadata": {},
     "output_type": "execute_result"
    }
   ],
   "source": [
    "df.describe()"
   ]
  },
  {
   "cell_type": "code",
   "execution_count": 7,
   "id": "8374430b",
   "metadata": {
    "ExecuteTime": {
     "end_time": "2022-06-16T10:11:43.741420Z",
     "start_time": "2022-06-16T10:11:43.671764Z"
    }
   },
   "outputs": [
    {
     "name": "stderr",
     "output_type": "stream",
     "text": [
      "C:\\Users\\Device Computer\\AppData\\Local\\Temp\\ipykernel_9116\\1665899112.py:1: FutureWarning: Dropping of nuisance columns in DataFrame reductions (with 'numeric_only=None') is deprecated; in a future version this will raise TypeError.  Select only valid columns before calling the reduction.\n",
      "  df.skew()\n"
     ]
    },
    {
     "data": {
      "text/plain": [
       "mpg         0.457066\n",
       "cyl         0.526922\n",
       "disp        0.719645\n",
       "hp          0.953296\n",
       "wt          0.531063\n",
       "acc         0.278777\n",
       "yr          0.011535\n",
       "origin      0.923776\n",
       "car_type   -0.121280\n",
       "dtype: float64"
      ]
     },
     "execution_count": 7,
     "metadata": {},
     "output_type": "execute_result"
    }
   ],
   "source": [
    "df.skew()"
   ]
  },
  {
   "cell_type": "code",
   "execution_count": 8,
   "id": "e97bf137",
   "metadata": {
    "ExecuteTime": {
     "end_time": "2022-06-16T10:11:43.822520Z",
     "start_time": "2022-06-16T10:11:43.744417Z"
    }
   },
   "outputs": [],
   "source": [
    "# postive skewed data set "
   ]
  },
  {
   "cell_type": "code",
   "execution_count": 9,
   "id": "9118ae5a",
   "metadata": {
    "ExecuteTime": {
     "end_time": "2022-06-16T10:11:43.948407Z",
     "start_time": "2022-06-16T10:11:43.824523Z"
    }
   },
   "outputs": [
    {
     "name": "stderr",
     "output_type": "stream",
     "text": [
      "C:\\Users\\Device Computer\\AppData\\Local\\Temp\\ipykernel_9116\\1257127604.py:1: FutureWarning: Dropping of nuisance columns in DataFrame reductions (with 'numeric_only=None') is deprecated; in a future version this will raise TypeError.  Select only valid columns before calling the reduction.\n",
      "  df.kurt()\n"
     ]
    },
    {
     "data": {
      "text/plain": [
       "mpg        -0.510781\n",
       "cyl        -1.376662\n",
       "disp       -0.746597\n",
       "hp          0.682171\n",
       "wt         -0.785529\n",
       "acc         0.419497\n",
       "yr         -1.181232\n",
       "origin     -0.817597\n",
       "car_type   -1.995343\n",
       "dtype: float64"
      ]
     },
     "execution_count": 9,
     "metadata": {},
     "output_type": "execute_result"
    }
   ],
   "source": [
    "df.kurt()"
   ]
  },
  {
   "cell_type": "code",
   "execution_count": 10,
   "id": "b8eb2af4",
   "metadata": {
    "ExecuteTime": {
     "end_time": "2022-06-16T10:11:44.031631Z",
     "start_time": "2022-06-16T10:11:43.951405Z"
    }
   },
   "outputs": [],
   "source": [
    "#  all are less than 0 means PLATYKURTIC"
   ]
  },
  {
   "cell_type": "code",
   "execution_count": 11,
   "id": "0083e401",
   "metadata": {
    "ExecuteTime": {
     "end_time": "2022-06-16T10:11:44.132749Z",
     "start_time": "2022-06-16T10:11:44.036632Z"
    }
   },
   "outputs": [
    {
     "data": {
      "text/plain": [
       "1    249\n",
       "3     79\n",
       "2     70\n",
       "Name: origin, dtype: int64"
      ]
     },
     "execution_count": 11,
     "metadata": {},
     "output_type": "execute_result"
    }
   ],
   "source": [
    "df['origin'].value_counts()"
   ]
  },
  {
   "cell_type": "code",
   "execution_count": 12,
   "id": "582b22e7",
   "metadata": {
    "ExecuteTime": {
     "end_time": "2022-06-16T10:11:44.207178Z",
     "start_time": "2022-06-16T10:11:44.135746Z"
    }
   },
   "outputs": [],
   "source": [
    "# 1  usa cars\n",
    "# 2  european cars\n",
    "# 3  Asian car"
   ]
  },
  {
   "cell_type": "code",
   "execution_count": 13,
   "id": "2b61ac92",
   "metadata": {
    "ExecuteTime": {
     "end_time": "2022-06-16T10:11:44.328780Z",
     "start_time": "2022-06-16T10:11:44.210174Z"
    }
   },
   "outputs": [],
   "source": [
    "df['origin'] = df['origin'].replace ({1 : 'america ' , 2 : 'euro', 3 :'asia'})"
   ]
  },
  {
   "cell_type": "code",
   "execution_count": 14,
   "id": "462cffa7",
   "metadata": {
    "ExecuteTime": {
     "end_time": "2022-06-16T10:11:44.472748Z",
     "start_time": "2022-06-16T10:11:44.330779Z"
    }
   },
   "outputs": [
    {
     "data": {
      "text/html": [
       "<div>\n",
       "<style scoped>\n",
       "    .dataframe tbody tr th:only-of-type {\n",
       "        vertical-align: middle;\n",
       "    }\n",
       "\n",
       "    .dataframe tbody tr th {\n",
       "        vertical-align: top;\n",
       "    }\n",
       "\n",
       "    .dataframe thead th {\n",
       "        text-align: right;\n",
       "    }\n",
       "</style>\n",
       "<table border=\"1\" class=\"dataframe\">\n",
       "  <thead>\n",
       "    <tr style=\"text-align: right;\">\n",
       "      <th></th>\n",
       "      <th>mpg</th>\n",
       "      <th>cyl</th>\n",
       "      <th>disp</th>\n",
       "      <th>hp</th>\n",
       "      <th>wt</th>\n",
       "      <th>acc</th>\n",
       "      <th>yr</th>\n",
       "      <th>origin</th>\n",
       "      <th>car_type</th>\n",
       "      <th>car_name</th>\n",
       "    </tr>\n",
       "  </thead>\n",
       "  <tbody>\n",
       "    <tr>\n",
       "      <th>0</th>\n",
       "      <td>18.0</td>\n",
       "      <td>8</td>\n",
       "      <td>307.0</td>\n",
       "      <td>130</td>\n",
       "      <td>3504</td>\n",
       "      <td>12.0</td>\n",
       "      <td>70</td>\n",
       "      <td>america</td>\n",
       "      <td>0</td>\n",
       "      <td>chevrolet chevelle malibu</td>\n",
       "    </tr>\n",
       "    <tr>\n",
       "      <th>1</th>\n",
       "      <td>15.0</td>\n",
       "      <td>8</td>\n",
       "      <td>350.0</td>\n",
       "      <td>165</td>\n",
       "      <td>3693</td>\n",
       "      <td>11.5</td>\n",
       "      <td>70</td>\n",
       "      <td>america</td>\n",
       "      <td>0</td>\n",
       "      <td>buick skylark 320</td>\n",
       "    </tr>\n",
       "    <tr>\n",
       "      <th>2</th>\n",
       "      <td>18.0</td>\n",
       "      <td>8</td>\n",
       "      <td>318.0</td>\n",
       "      <td>150</td>\n",
       "      <td>3436</td>\n",
       "      <td>11.0</td>\n",
       "      <td>70</td>\n",
       "      <td>america</td>\n",
       "      <td>0</td>\n",
       "      <td>plymouth satellite</td>\n",
       "    </tr>\n",
       "    <tr>\n",
       "      <th>3</th>\n",
       "      <td>16.0</td>\n",
       "      <td>8</td>\n",
       "      <td>304.0</td>\n",
       "      <td>150</td>\n",
       "      <td>3433</td>\n",
       "      <td>12.0</td>\n",
       "      <td>70</td>\n",
       "      <td>america</td>\n",
       "      <td>0</td>\n",
       "      <td>amc rebel sst</td>\n",
       "    </tr>\n",
       "    <tr>\n",
       "      <th>4</th>\n",
       "      <td>17.0</td>\n",
       "      <td>8</td>\n",
       "      <td>302.0</td>\n",
       "      <td>140</td>\n",
       "      <td>3449</td>\n",
       "      <td>10.5</td>\n",
       "      <td>70</td>\n",
       "      <td>america</td>\n",
       "      <td>0</td>\n",
       "      <td>ford torino</td>\n",
       "    </tr>\n",
       "  </tbody>\n",
       "</table>\n",
       "</div>"
      ],
      "text/plain": [
       "    mpg  cyl   disp   hp    wt   acc  yr    origin  car_type  \\\n",
       "0  18.0    8  307.0  130  3504  12.0  70  america          0   \n",
       "1  15.0    8  350.0  165  3693  11.5  70  america          0   \n",
       "2  18.0    8  318.0  150  3436  11.0  70  america          0   \n",
       "3  16.0    8  304.0  150  3433  12.0  70  america          0   \n",
       "4  17.0    8  302.0  140  3449  10.5  70  america          0   \n",
       "\n",
       "                    car_name  \n",
       "0  chevrolet chevelle malibu  \n",
       "1          buick skylark 320  \n",
       "2         plymouth satellite  \n",
       "3              amc rebel sst  \n",
       "4                ford torino  "
      ]
     },
     "execution_count": 14,
     "metadata": {},
     "output_type": "execute_result"
    }
   ],
   "source": [
    "df.head()"
   ]
  },
  {
   "cell_type": "code",
   "execution_count": 15,
   "id": "c857efc0",
   "metadata": {
    "ExecuteTime": {
     "end_time": "2022-06-16T10:11:44.563316Z",
     "start_time": "2022-06-16T10:11:44.475744Z"
    }
   },
   "outputs": [
    {
     "data": {
      "text/plain": [
       "america     249\n",
       "asia         79\n",
       "euro         70\n",
       "Name: origin, dtype: int64"
      ]
     },
     "execution_count": 15,
     "metadata": {},
     "output_type": "execute_result"
    }
   ],
   "source": [
    "df['origin'].value_counts()"
   ]
  },
  {
   "cell_type": "markdown",
   "id": "6f88910e",
   "metadata": {},
   "source": [
    "## encoding origin column using one hot encoding"
   ]
  },
  {
   "cell_type": "code",
   "execution_count": 16,
   "id": "c1f02544",
   "metadata": {
    "ExecuteTime": {
     "end_time": "2022-06-16T10:11:44.652837Z",
     "start_time": "2022-06-16T10:11:44.565314Z"
    }
   },
   "outputs": [],
   "source": [
    "df  = pd.get_dummies(df, columns=['origin'], drop_first= True)"
   ]
  },
  {
   "cell_type": "code",
   "execution_count": 17,
   "id": "75777728",
   "metadata": {
    "ExecuteTime": {
     "end_time": "2022-06-16T10:11:44.780884Z",
     "start_time": "2022-06-16T10:11:44.655837Z"
    }
   },
   "outputs": [
    {
     "data": {
      "text/html": [
       "<div>\n",
       "<style scoped>\n",
       "    .dataframe tbody tr th:only-of-type {\n",
       "        vertical-align: middle;\n",
       "    }\n",
       "\n",
       "    .dataframe tbody tr th {\n",
       "        vertical-align: top;\n",
       "    }\n",
       "\n",
       "    .dataframe thead th {\n",
       "        text-align: right;\n",
       "    }\n",
       "</style>\n",
       "<table border=\"1\" class=\"dataframe\">\n",
       "  <thead>\n",
       "    <tr style=\"text-align: right;\">\n",
       "      <th></th>\n",
       "      <th>mpg</th>\n",
       "      <th>cyl</th>\n",
       "      <th>disp</th>\n",
       "      <th>hp</th>\n",
       "      <th>wt</th>\n",
       "      <th>acc</th>\n",
       "      <th>yr</th>\n",
       "      <th>car_type</th>\n",
       "      <th>car_name</th>\n",
       "      <th>origin_asia</th>\n",
       "      <th>origin_euro</th>\n",
       "    </tr>\n",
       "  </thead>\n",
       "  <tbody>\n",
       "    <tr>\n",
       "      <th>0</th>\n",
       "      <td>18.0</td>\n",
       "      <td>8</td>\n",
       "      <td>307.0</td>\n",
       "      <td>130</td>\n",
       "      <td>3504</td>\n",
       "      <td>12.0</td>\n",
       "      <td>70</td>\n",
       "      <td>0</td>\n",
       "      <td>chevrolet chevelle malibu</td>\n",
       "      <td>0</td>\n",
       "      <td>0</td>\n",
       "    </tr>\n",
       "    <tr>\n",
       "      <th>1</th>\n",
       "      <td>15.0</td>\n",
       "      <td>8</td>\n",
       "      <td>350.0</td>\n",
       "      <td>165</td>\n",
       "      <td>3693</td>\n",
       "      <td>11.5</td>\n",
       "      <td>70</td>\n",
       "      <td>0</td>\n",
       "      <td>buick skylark 320</td>\n",
       "      <td>0</td>\n",
       "      <td>0</td>\n",
       "    </tr>\n",
       "    <tr>\n",
       "      <th>2</th>\n",
       "      <td>18.0</td>\n",
       "      <td>8</td>\n",
       "      <td>318.0</td>\n",
       "      <td>150</td>\n",
       "      <td>3436</td>\n",
       "      <td>11.0</td>\n",
       "      <td>70</td>\n",
       "      <td>0</td>\n",
       "      <td>plymouth satellite</td>\n",
       "      <td>0</td>\n",
       "      <td>0</td>\n",
       "    </tr>\n",
       "    <tr>\n",
       "      <th>3</th>\n",
       "      <td>16.0</td>\n",
       "      <td>8</td>\n",
       "      <td>304.0</td>\n",
       "      <td>150</td>\n",
       "      <td>3433</td>\n",
       "      <td>12.0</td>\n",
       "      <td>70</td>\n",
       "      <td>0</td>\n",
       "      <td>amc rebel sst</td>\n",
       "      <td>0</td>\n",
       "      <td>0</td>\n",
       "    </tr>\n",
       "    <tr>\n",
       "      <th>4</th>\n",
       "      <td>17.0</td>\n",
       "      <td>8</td>\n",
       "      <td>302.0</td>\n",
       "      <td>140</td>\n",
       "      <td>3449</td>\n",
       "      <td>10.5</td>\n",
       "      <td>70</td>\n",
       "      <td>0</td>\n",
       "      <td>ford torino</td>\n",
       "      <td>0</td>\n",
       "      <td>0</td>\n",
       "    </tr>\n",
       "  </tbody>\n",
       "</table>\n",
       "</div>"
      ],
      "text/plain": [
       "    mpg  cyl   disp   hp    wt   acc  yr  car_type                   car_name  \\\n",
       "0  18.0    8  307.0  130  3504  12.0  70         0  chevrolet chevelle malibu   \n",
       "1  15.0    8  350.0  165  3693  11.5  70         0          buick skylark 320   \n",
       "2  18.0    8  318.0  150  3436  11.0  70         0         plymouth satellite   \n",
       "3  16.0    8  304.0  150  3433  12.0  70         0              amc rebel sst   \n",
       "4  17.0    8  302.0  140  3449  10.5  70         0                ford torino   \n",
       "\n",
       "   origin_asia  origin_euro  \n",
       "0            0            0  \n",
       "1            0            0  \n",
       "2            0            0  \n",
       "3            0            0  \n",
       "4            0            0  "
      ]
     },
     "execution_count": 17,
     "metadata": {},
     "output_type": "execute_result"
    }
   ],
   "source": [
    "df.head()"
   ]
  },
  {
   "cell_type": "markdown",
   "id": "b1bb1378",
   "metadata": {},
   "source": [
    "#  detecting outliers in data set "
   ]
  },
  {
   "cell_type": "code",
   "execution_count": 18,
   "id": "feb7dc23",
   "metadata": {
    "ExecuteTime": {
     "end_time": "2022-06-16T10:11:44.932583Z",
     "start_time": "2022-06-16T10:11:44.783882Z"
    }
   },
   "outputs": [],
   "source": [
    "# import matplolib"
   ]
  },
  {
   "cell_type": "code",
   "execution_count": 19,
   "id": "3d8a9958",
   "metadata": {
    "ExecuteTime": {
     "end_time": "2022-06-16T10:11:45.374882Z",
     "start_time": "2022-06-16T10:11:44.934586Z"
    }
   },
   "outputs": [
    {
     "data": {
      "text/plain": [
       "<AxesSubplot:>"
      ]
     },
     "execution_count": 19,
     "metadata": {},
     "output_type": "execute_result"
    },
    {
     "data": {
      "image/png": "[encoded data removed]",
      "text/plain": [
       "<Figure size 1080x864 with 1 Axes>"
      ]
     },
     "metadata": {
      "needs_background": "light"
     },
     "output_type": "display_data"
    }
   ],
   "source": [
    "plt.figure(figsize= (15 , 12))\n",
    "df.boxplot(vert = False)"
   ]
  },
  {
   "cell_type": "code",
   "execution_count": 20,
   "id": "2cae87d5",
   "metadata": {
    "ExecuteTime": {
     "end_time": "2022-06-16T10:11:45.381877Z",
     "start_time": "2022-06-16T10:11:45.376881Z"
    }
   },
   "outputs": [],
   "source": [
    "# black dot circle means outliers  here above  (5)columns have outliers .apply outlier treatment on contniuos data column\n",
    "# apply on acc, hp   dont apply on mpg or dependent variable"
   ]
  },
  {
   "cell_type": "code",
   "execution_count": 21,
   "id": "f39354df",
   "metadata": {
    "ExecuteTime": {
     "end_time": "2022-06-16T10:11:45.451993Z",
     "start_time": "2022-06-16T10:11:45.384875Z"
    }
   },
   "outputs": [],
   "source": [
    "# begin treatment "
   ]
  },
  {
   "cell_type": "code",
   "execution_count": 22,
   "id": "797e1cc6",
   "metadata": {
    "ExecuteTime": {
     "end_time": "2022-06-16T10:11:45.539226Z",
     "start_time": "2022-06-16T10:11:45.453987Z"
    }
   },
   "outputs": [],
   "source": [
    "def remove_outlier(col):\n",
    "    sorted (col)\n",
    "    Q1 ,Q3 , = np.percentile(col, (25 ,75))\n",
    "    IQR = Q3 -Q1\n",
    "    Lw = Q1 - (1.5*IQR)\n",
    "    Uw = Q3 + (1.5*IQR)\n",
    "    return Lw , Uw"
   ]
  },
  {
   "cell_type": "code",
   "execution_count": 23,
   "id": "63797c1f",
   "metadata": {
    "ExecuteTime": {
     "end_time": "2022-06-16T10:11:45.659402Z",
     "start_time": "2022-06-16T10:11:45.542222Z"
    }
   },
   "outputs": [],
   "source": [
    "for column in df.drop(['origin_asia', 'origin_euro', 'mpg', 'car_name'] , axis = 1).columns:\n",
    "    LW, UW = remove_outlier(df[column])\n",
    "    df[column] = np.where(df[column] > UW , UW ,df[column])\n",
    "    df[column] = np.where(df[column] < LW , LW ,df[column])                     "
   ]
  },
  {
   "cell_type": "code",
   "execution_count": 24,
   "id": "c564d47e",
   "metadata": {
    "ExecuteTime": {
     "end_time": "2022-06-16T10:11:46.059507Z",
     "start_time": "2022-06-16T10:11:45.661134Z"
    }
   },
   "outputs": [
    {
     "data": {
      "text/plain": [
       "<AxesSubplot:>"
      ]
     },
     "execution_count": 24,
     "metadata": {},
     "output_type": "execute_result"
    },
    {
     "data": {
      "image/png": "[encoded data removed]",
      "text/plain": [
       "<Figure size 1080x864 with 1 Axes>"
      ]
     },
     "metadata": {
      "needs_background": "light"
     },
     "output_type": "display_data"
    }
   ],
   "source": [
    "plt.figure(figsize= (15 , 12))\n",
    "df.boxplot(vert = False)"
   ]
  },
  {
   "cell_type": "code",
   "execution_count": 25,
   "id": "8a5a912e",
   "metadata": {
    "ExecuteTime": {
     "end_time": "2022-06-16T10:11:46.066502Z",
     "start_time": "2022-06-16T10:11:46.061505Z"
    }
   },
   "outputs": [],
   "source": [
    "#  outlier  treatment done  compare both the graphs"
   ]
  },
  {
   "cell_type": "markdown",
   "id": "11030fca",
   "metadata": {},
   "source": [
    "#  Train test split"
   ]
  },
  {
   "cell_type": "code",
   "execution_count": 26,
   "id": "0949ba38",
   "metadata": {
    "ExecuteTime": {
     "end_time": "2022-06-16T10:11:46.165232Z",
     "start_time": "2022-06-16T10:11:46.068501Z"
    }
   },
   "outputs": [],
   "source": [
    "#   (X)= capital than more than one independent varibale\n",
    "#   (x)= small than only one independent variable "
   ]
  },
  {
   "cell_type": "code",
   "execution_count": 27,
   "id": "97b3266a",
   "metadata": {
    "ExecuteTime": {
     "end_time": "2022-06-16T10:11:46.315540Z",
     "start_time": "2022-06-16T10:11:46.167224Z"
    }
   },
   "outputs": [
    {
     "data": {
      "text/html": [
       "<div>\n",
       "<style scoped>\n",
       "    .dataframe tbody tr th:only-of-type {\n",
       "        vertical-align: middle;\n",
       "    }\n",
       "\n",
       "    .dataframe tbody tr th {\n",
       "        vertical-align: top;\n",
       "    }\n",
       "\n",
       "    .dataframe thead th {\n",
       "        text-align: right;\n",
       "    }\n",
       "</style>\n",
       "<table border=\"1\" class=\"dataframe\">\n",
       "  <thead>\n",
       "    <tr style=\"text-align: right;\">\n",
       "      <th></th>\n",
       "      <th>mpg</th>\n",
       "      <th>cyl</th>\n",
       "      <th>disp</th>\n",
       "      <th>hp</th>\n",
       "      <th>wt</th>\n",
       "      <th>acc</th>\n",
       "      <th>yr</th>\n",
       "      <th>car_type</th>\n",
       "      <th>car_name</th>\n",
       "      <th>origin_asia</th>\n",
       "      <th>origin_euro</th>\n",
       "    </tr>\n",
       "  </thead>\n",
       "  <tbody>\n",
       "    <tr>\n",
       "      <th>0</th>\n",
       "      <td>18.0</td>\n",
       "      <td>8.0</td>\n",
       "      <td>307.0</td>\n",
       "      <td>130.0</td>\n",
       "      <td>3504.0</td>\n",
       "      <td>12.0</td>\n",
       "      <td>70.0</td>\n",
       "      <td>0.0</td>\n",
       "      <td>chevrolet chevelle malibu</td>\n",
       "      <td>0</td>\n",
       "      <td>0</td>\n",
       "    </tr>\n",
       "    <tr>\n",
       "      <th>1</th>\n",
       "      <td>15.0</td>\n",
       "      <td>8.0</td>\n",
       "      <td>350.0</td>\n",
       "      <td>165.0</td>\n",
       "      <td>3693.0</td>\n",
       "      <td>11.5</td>\n",
       "      <td>70.0</td>\n",
       "      <td>0.0</td>\n",
       "      <td>buick skylark 320</td>\n",
       "      <td>0</td>\n",
       "      <td>0</td>\n",
       "    </tr>\n",
       "    <tr>\n",
       "      <th>2</th>\n",
       "      <td>18.0</td>\n",
       "      <td>8.0</td>\n",
       "      <td>318.0</td>\n",
       "      <td>150.0</td>\n",
       "      <td>3436.0</td>\n",
       "      <td>11.0</td>\n",
       "      <td>70.0</td>\n",
       "      <td>0.0</td>\n",
       "      <td>plymouth satellite</td>\n",
       "      <td>0</td>\n",
       "      <td>0</td>\n",
       "    </tr>\n",
       "    <tr>\n",
       "      <th>3</th>\n",
       "      <td>16.0</td>\n",
       "      <td>8.0</td>\n",
       "      <td>304.0</td>\n",
       "      <td>150.0</td>\n",
       "      <td>3433.0</td>\n",
       "      <td>12.0</td>\n",
       "      <td>70.0</td>\n",
       "      <td>0.0</td>\n",
       "      <td>amc rebel sst</td>\n",
       "      <td>0</td>\n",
       "      <td>0</td>\n",
       "    </tr>\n",
       "    <tr>\n",
       "      <th>4</th>\n",
       "      <td>17.0</td>\n",
       "      <td>8.0</td>\n",
       "      <td>302.0</td>\n",
       "      <td>140.0</td>\n",
       "      <td>3449.0</td>\n",
       "      <td>10.5</td>\n",
       "      <td>70.0</td>\n",
       "      <td>0.0</td>\n",
       "      <td>ford torino</td>\n",
       "      <td>0</td>\n",
       "      <td>0</td>\n",
       "    </tr>\n",
       "  </tbody>\n",
       "</table>\n",
       "</div>"
      ],
      "text/plain": [
       "    mpg  cyl   disp     hp      wt   acc    yr  car_type  \\\n",
       "0  18.0  8.0  307.0  130.0  3504.0  12.0  70.0       0.0   \n",
       "1  15.0  8.0  350.0  165.0  3693.0  11.5  70.0       0.0   \n",
       "2  18.0  8.0  318.0  150.0  3436.0  11.0  70.0       0.0   \n",
       "3  16.0  8.0  304.0  150.0  3433.0  12.0  70.0       0.0   \n",
       "4  17.0  8.0  302.0  140.0  3449.0  10.5  70.0       0.0   \n",
       "\n",
       "                    car_name  origin_asia  origin_euro  \n",
       "0  chevrolet chevelle malibu            0            0  \n",
       "1          buick skylark 320            0            0  \n",
       "2         plymouth satellite            0            0  \n",
       "3              amc rebel sst            0            0  \n",
       "4                ford torino            0            0  "
      ]
     },
     "execution_count": 27,
     "metadata": {},
     "output_type": "execute_result"
    }
   ],
   "source": [
    "df.head()"
   ]
  },
  {
   "cell_type": "code",
   "execution_count": 28,
   "id": "f9daf319",
   "metadata": {
    "ExecuteTime": {
     "end_time": "2022-06-16T10:11:46.398599Z",
     "start_time": "2022-06-16T10:11:46.318538Z"
    }
   },
   "outputs": [],
   "source": [
    "X = df.drop(['mpg', 'car_name' ] , axis= 1)"
   ]
  },
  {
   "cell_type": "code",
   "execution_count": 29,
   "id": "42dcfaee",
   "metadata": {
    "ExecuteTime": {
     "end_time": "2022-06-16T10:11:46.498627Z",
     "start_time": "2022-06-16T10:11:46.405595Z"
    }
   },
   "outputs": [
    {
     "data": {
      "text/html": [
       "<div>\n",
       "<style scoped>\n",
       "    .dataframe tbody tr th:only-of-type {\n",
       "        vertical-align: middle;\n",
       "    }\n",
       "\n",
       "    .dataframe tbody tr th {\n",
       "        vertical-align: top;\n",
       "    }\n",
       "\n",
       "    .dataframe thead th {\n",
       "        text-align: right;\n",
       "    }\n",
       "</style>\n",
       "<table border=\"1\" class=\"dataframe\">\n",
       "  <thead>\n",
       "    <tr style=\"text-align: right;\">\n",
       "      <th></th>\n",
       "      <th>cyl</th>\n",
       "      <th>disp</th>\n",
       "      <th>hp</th>\n",
       "      <th>wt</th>\n",
       "      <th>acc</th>\n",
       "      <th>yr</th>\n",
       "      <th>car_type</th>\n",
       "      <th>origin_asia</th>\n",
       "      <th>origin_euro</th>\n",
       "    </tr>\n",
       "  </thead>\n",
       "  <tbody>\n",
       "    <tr>\n",
       "      <th>0</th>\n",
       "      <td>8.0</td>\n",
       "      <td>307.0</td>\n",
       "      <td>130.0</td>\n",
       "      <td>3504.0</td>\n",
       "      <td>12.0</td>\n",
       "      <td>70.0</td>\n",
       "      <td>0.0</td>\n",
       "      <td>0</td>\n",
       "      <td>0</td>\n",
       "    </tr>\n",
       "    <tr>\n",
       "      <th>1</th>\n",
       "      <td>8.0</td>\n",
       "      <td>350.0</td>\n",
       "      <td>165.0</td>\n",
       "      <td>3693.0</td>\n",
       "      <td>11.5</td>\n",
       "      <td>70.0</td>\n",
       "      <td>0.0</td>\n",
       "      <td>0</td>\n",
       "      <td>0</td>\n",
       "    </tr>\n",
       "    <tr>\n",
       "      <th>2</th>\n",
       "      <td>8.0</td>\n",
       "      <td>318.0</td>\n",
       "      <td>150.0</td>\n",
       "      <td>3436.0</td>\n",
       "      <td>11.0</td>\n",
       "      <td>70.0</td>\n",
       "      <td>0.0</td>\n",
       "      <td>0</td>\n",
       "      <td>0</td>\n",
       "    </tr>\n",
       "    <tr>\n",
       "      <th>3</th>\n",
       "      <td>8.0</td>\n",
       "      <td>304.0</td>\n",
       "      <td>150.0</td>\n",
       "      <td>3433.0</td>\n",
       "      <td>12.0</td>\n",
       "      <td>70.0</td>\n",
       "      <td>0.0</td>\n",
       "      <td>0</td>\n",
       "      <td>0</td>\n",
       "    </tr>\n",
       "    <tr>\n",
       "      <th>4</th>\n",
       "      <td>8.0</td>\n",
       "      <td>302.0</td>\n",
       "      <td>140.0</td>\n",
       "      <td>3449.0</td>\n",
       "      <td>10.5</td>\n",
       "      <td>70.0</td>\n",
       "      <td>0.0</td>\n",
       "      <td>0</td>\n",
       "      <td>0</td>\n",
       "    </tr>\n",
       "  </tbody>\n",
       "</table>\n",
       "</div>"
      ],
      "text/plain": [
       "   cyl   disp     hp      wt   acc    yr  car_type  origin_asia  origin_euro\n",
       "0  8.0  307.0  130.0  3504.0  12.0  70.0       0.0            0            0\n",
       "1  8.0  350.0  165.0  3693.0  11.5  70.0       0.0            0            0\n",
       "2  8.0  318.0  150.0  3436.0  11.0  70.0       0.0            0            0\n",
       "3  8.0  304.0  150.0  3433.0  12.0  70.0       0.0            0            0\n",
       "4  8.0  302.0  140.0  3449.0  10.5  70.0       0.0            0            0"
      ]
     },
     "execution_count": 29,
     "metadata": {},
     "output_type": "execute_result"
    }
   ],
   "source": [
    "X.head()"
   ]
  },
  {
   "cell_type": "code",
   "execution_count": 30,
   "id": "5e2a55a4",
   "metadata": {
    "ExecuteTime": {
     "end_time": "2022-06-16T10:11:46.604856Z",
     "start_time": "2022-06-16T10:11:46.500624Z"
    }
   },
   "outputs": [],
   "source": [
    "# use double square bracket to convert into pandas data frame "
   ]
  },
  {
   "cell_type": "code",
   "execution_count": 31,
   "id": "bf72788d",
   "metadata": {
    "ExecuteTime": {
     "end_time": "2022-06-16T10:11:46.695199Z",
     "start_time": "2022-06-16T10:11:46.607847Z"
    }
   },
   "outputs": [],
   "source": [
    "Y = df['mpg']"
   ]
  },
  {
   "cell_type": "code",
   "execution_count": 32,
   "id": "8e5802f1",
   "metadata": {
    "ExecuteTime": {
     "end_time": "2022-06-16T10:11:46.818521Z",
     "start_time": "2022-06-16T10:11:46.697195Z"
    }
   },
   "outputs": [
    {
     "data": {
      "text/plain": [
       "0    18.0\n",
       "1    15.0\n",
       "2    18.0\n",
       "3    16.0\n",
       "4    17.0\n",
       "Name: mpg, dtype: float64"
      ]
     },
     "execution_count": 32,
     "metadata": {},
     "output_type": "execute_result"
    }
   ],
   "source": [
    "Y.head()"
   ]
  },
  {
   "cell_type": "code",
   "execution_count": 40,
   "id": "8eb74b28",
   "metadata": {
    "ExecuteTime": {
     "end_time": "2022-06-16T10:11:46.959548Z",
     "start_time": "2022-06-16T10:11:46.821517Z"
    }
   },
   "outputs": [],
   "source": [
    "X_train , X_test ,y_train , y_test = train_test_split(X , Y , test_size= 0.3 , random_state = 1)"
   ]
  },
  {
   "cell_type": "code",
   "execution_count": 41,
   "id": "26c178df",
   "metadata": {
    "ExecuteTime": {
     "end_time": "2022-06-16T10:11:47.054305Z",
     "start_time": "2022-06-16T10:11:46.961548Z"
    }
   },
   "outputs": [
    {
     "data": {
      "text/plain": [
       "(398, 11)"
      ]
     },
     "execution_count": 41,
     "metadata": {},
     "output_type": "execute_result"
    }
   ],
   "source": [
    "df.shape"
   ]
  },
  {
   "cell_type": "code",
   "execution_count": 42,
   "id": "ca62d623",
   "metadata": {
    "ExecuteTime": {
     "end_time": "2022-06-16T10:11:47.137894Z",
     "start_time": "2022-06-16T10:11:47.056302Z"
    }
   },
   "outputs": [
    {
     "data": {
      "text/plain": [
       "(278, 9)"
      ]
     },
     "execution_count": 42,
     "metadata": {},
     "output_type": "execute_result"
    }
   ],
   "source": [
    "X_train.shape"
   ]
  },
  {
   "cell_type": "code",
   "execution_count": 43,
   "id": "ae19566b",
   "metadata": {
    "ExecuteTime": {
     "end_time": "2022-06-16T10:11:47.224925Z",
     "start_time": "2022-06-16T10:11:47.139893Z"
    }
   },
   "outputs": [
    {
     "data": {
      "text/plain": [
       "(120, 9)"
      ]
     },
     "execution_count": 43,
     "metadata": {},
     "output_type": "execute_result"
    }
   ],
   "source": [
    "X_test.shape"
   ]
  },
  {
   "cell_type": "code",
   "execution_count": 44,
   "id": "6c50e5c0",
   "metadata": {
    "ExecuteTime": {
     "end_time": "2022-06-16T10:11:47.376760Z",
     "start_time": "2022-06-16T10:11:47.227922Z"
    }
   },
   "outputs": [
    {
     "data": {
      "text/plain": [
       "(278,)"
      ]
     },
     "execution_count": 44,
     "metadata": {},
     "output_type": "execute_result"
    }
   ],
   "source": [
    "y_train.shape"
   ]
  },
  {
   "cell_type": "code",
   "execution_count": 45,
   "id": "eb9b0217",
   "metadata": {
    "ExecuteTime": {
     "end_time": "2022-06-16T10:11:47.478062Z",
     "start_time": "2022-06-16T10:11:47.379757Z"
    }
   },
   "outputs": [
    {
     "data": {
      "text/plain": [
       "(120,)"
      ]
     },
     "execution_count": 45,
     "metadata": {},
     "output_type": "execute_result"
    }
   ],
   "source": [
    "Y_test.shape"
   ]
  },
  {
   "cell_type": "markdown",
   "id": "98249619",
   "metadata": {},
   "source": [
    "#  model building \n",
    "\n",
    "STEP 1 - OBJECT CREAATION\n",
    "\n",
    "STEP 2- MODEL FIITNG\n",
    "\n",
    "STEP 3-  MODEL PREDECTION \n",
    "\n",
    "STEP 4 - MODEL EVALUATION"
   ]
  },
  {
   "cell_type": "code",
   "execution_count": 46,
   "id": "11c53775",
   "metadata": {},
   "outputs": [],
   "source": [
    "#step 1 = creation of object "
   ]
  },
  {
   "cell_type": "code",
   "execution_count": 47,
   "id": "8f127ae5",
   "metadata": {
    "ExecuteTime": {
     "end_time": "2022-06-16T10:12:42.100398Z",
     "start_time": "2022-06-16T10:12:42.096401Z"
    }
   },
   "outputs": [],
   "source": [
    "model = LinearRegression()"
   ]
  },
  {
   "cell_type": "code",
   "execution_count": 48,
   "id": "fafd712d",
   "metadata": {
    "ExecuteTime": {
     "end_time": "2022-06-16T10:13:21.658323Z",
     "start_time": "2022-06-16T10:13:21.654325Z"
    }
   },
   "outputs": [],
   "source": [
    "#step 2 = model fitting"
   ]
  },
  {
   "cell_type": "code",
   "execution_count": 49,
   "id": "bf456252",
   "metadata": {
    "ExecuteTime": {
     "end_time": "2022-06-16T10:13:56.989197Z",
     "start_time": "2022-06-16T10:13:56.026425Z"
    }
   },
   "outputs": [
    {
     "data": {
      "text/plain": [
       "LinearRegression()"
      ]
     },
     "execution_count": 49,
     "metadata": {},
     "output_type": "execute_result"
    }
   ],
   "source": [
    "model.fit(X_train , Y_train)"
   ]
  },
  {
   "cell_type": "code",
   "execution_count": 50,
   "id": "050582b8",
   "metadata": {
    "ExecuteTime": {
     "end_time": "2022-06-16T10:14:49.313532Z",
     "start_time": "2022-06-16T10:14:49.310536Z"
    }
   },
   "outputs": [],
   "source": [
    "#step 3 model predict"
   ]
  },
  {
   "cell_type": "code",
   "execution_count": 51,
   "id": "3fa182d6",
   "metadata": {
    "ExecuteTime": {
     "end_time": "2022-06-16T10:17:23.360645Z",
     "start_time": "2022-06-16T10:17:23.353648Z"
    }
   },
   "outputs": [],
   "source": [
    "Y_pred = model.predict(X_test)"
   ]
  },
  {
   "cell_type": "code",
   "execution_count": 52,
   "id": "6ab00735",
   "metadata": {
    "ExecuteTime": {
     "end_time": "2022-06-16T10:17:36.418928Z",
     "start_time": "2022-06-16T10:17:36.408933Z"
    }
   },
   "outputs": [
    {
     "data": {
      "text/plain": [
       "array([19.42585194, 27.8660333 , 21.22381725, 28.2536898 , 22.52624727,\n",
       "       16.86370688, 30.15476895, 35.05648736, 18.71704462, 11.17711787,\n",
       "       30.61794852, 18.49884122, 19.95444606, 26.84164389, 36.93475033,\n",
       "       23.55430097, 10.70432629, 18.59790519,  9.12736053, 33.50480919,\n",
       "       26.16544084, 32.08588092, 19.25511299, 25.53081904, 26.10930543,\n",
       "       30.42413832, 32.92590017, 33.35168541, 16.29313291, 30.29159422,\n",
       "       24.97732632, 11.04952198, 21.55531399, 28.78155467, 25.40212318,\n",
       "       14.03051298, 27.07124632,  9.60263366, 31.98726829, 24.66510222,\n",
       "       24.65648861, 25.0123797 , 22.21533558, 33.9674628 , 23.69363205,\n",
       "       20.22797277, 19.30123208, 12.48982259, 29.05610466, 17.10854475,\n",
       "       24.73440059, 26.72223946, 17.97694772, 13.05755511, 28.81980896,\n",
       "       25.19721899, 10.32456716, 14.01426801, 31.0260922 , 36.16552764,\n",
       "       36.17916958, 36.18810318, 18.95093038, 25.32815633, 21.15808495,\n",
       "       33.24941211, 24.33193704, 24.8139528 , 30.04182359, 13.55399013,\n",
       "       21.38579852, 23.13614409, 15.15916987, 27.1087118 , 12.83922259,\n",
       "       26.22616095, 30.51992729, 17.56683125, 13.16603195, 23.53247997,\n",
       "       22.42129433, 19.43517647, 35.83137279, 24.26269   , 34.93414513,\n",
       "       15.97302028, 16.88254435, 22.0589575 , 35.63942458, 35.25445698,\n",
       "       20.59829054, 20.43362626, 22.28523353, 26.98219605, 31.4907486 ,\n",
       "       20.34085703, 33.61853399, 28.84620855, 23.973774  , 22.81524993,\n",
       "       19.18794084,  8.02349622, 16.51193495, 34.93347941, 14.27564471,\n",
       "       23.74890419, 31.46111752, 23.30043891, 25.77751745, 18.88182862,\n",
       "       17.61997941, 31.02798698, 28.1127315 , 15.5803177 , 24.47856766,\n",
       "       34.63107594, 11.09585263, 25.39358253, 25.56495881, 32.14488749])"
      ]
     },
     "execution_count": 52,
     "metadata": {},
     "output_type": "execute_result"
    }
   ],
   "source": [
    "Y_pred"
   ]
  },
  {
   "cell_type": "code",
   "execution_count": 53,
   "id": "bfccc6da",
   "metadata": {
    "ExecuteTime": {
     "end_time": "2022-06-16T10:18:19.772616Z",
     "start_time": "2022-06-16T10:18:19.766620Z"
    }
   },
   "outputs": [
    {
     "data": {
      "text/plain": [
       "120"
      ]
     },
     "execution_count": 53,
     "metadata": {},
     "output_type": "execute_result"
    }
   ],
   "source": [
    "len (Y_pred)"
   ]
  },
  {
   "cell_type": "code",
   "execution_count": 54,
   "id": "abc40e2c",
   "metadata": {
    "ExecuteTime": {
     "end_time": "2022-06-16T10:21:56.274954Z",
     "start_time": "2022-06-16T10:21:56.270955Z"
    }
   },
   "outputs": [],
   "source": [
    "# model evalutaion   step 4"
   ]
  },
  {
   "cell_type": "code",
   "execution_count": 55,
   "id": "7d685984",
   "metadata": {
    "ExecuteTime": {
     "end_time": "2022-06-16T10:23:14.128528Z",
     "start_time": "2022-06-16T10:23:14.104542Z"
    }
   },
   "outputs": [
    {
     "data": {
      "text/plain": [
       "0.8550851758053875"
      ]
     },
     "execution_count": 55,
     "metadata": {},
     "output_type": "execute_result"
    }
   ],
   "source": [
    "r2_score(Y_test , Y_pred )"
   ]
  },
  {
   "cell_type": "code",
   "execution_count": 56,
   "id": "d8a157e0",
   "metadata": {
    "ExecuteTime": {
     "end_time": "2022-06-16T10:56:54.353753Z",
     "start_time": "2022-06-16T10:56:54.349757Z"
    }
   },
   "outputs": [],
   "source": [
    "#  0  to 1 is ideal value "
   ]
  },
  {
   "cell_type": "code",
   "execution_count": 57,
   "id": "a79bcceb",
   "metadata": {
    "ExecuteTime": {
     "end_time": "2022-06-16T10:57:58.323821Z",
     "start_time": "2022-06-16T10:57:58.315827Z"
    }
   },
   "outputs": [
    {
     "data": {
      "text/plain": [
       "2.9107948352334394"
      ]
     },
     "execution_count": 57,
     "metadata": {},
     "output_type": "execute_result"
    }
   ],
   "source": [
    "np.sqrt(mean_squared_error(Y_test , Y_pred))"
   ]
  },
  {
   "cell_type": "markdown",
   "id": "ec027cbe",
   "metadata": {},
   "source": [
    "  #  model analysis"
   ]
  },
  {
   "cell_type": "code",
   "execution_count": 58,
   "id": "4827cf35",
   "metadata": {
    "ExecuteTime": {
     "end_time": "2022-06-16T11:15:12.742572Z",
     "start_time": "2022-06-16T11:15:12.736574Z"
    }
   },
   "outputs": [
    {
     "data": {
      "text/plain": [
       "-29.77159122447117"
      ]
     },
     "execution_count": 58,
     "metadata": {},
     "output_type": "execute_result"
    }
   ],
   "source": [
    "model.intercept_"
   ]
  },
  {
   "cell_type": "code",
   "execution_count": 59,
   "id": "305a03c3",
   "metadata": {
    "ExecuteTime": {
     "end_time": "2022-06-16T11:15:13.119589Z",
     "start_time": "2022-06-16T11:15:13.112591Z"
    }
   },
   "outputs": [
    {
     "data": {
      "text/plain": [
       "array([ 1.50535129,  0.02196455, -0.0431252 , -0.00657054,  0.03225078,\n",
       "        0.79641845,  5.79371433,  2.13364186,  2.23053928])"
      ]
     },
     "execution_count": 59,
     "metadata": {},
     "output_type": "execute_result"
    }
   ],
   "source": [
    "model.coef_"
   ]
  },
  {
   "cell_type": "code",
   "execution_count": 60,
   "id": "24f7a721",
   "metadata": {
    "ExecuteTime": {
     "end_time": "2022-06-16T11:15:16.056854Z",
     "start_time": "2022-06-16T11:15:16.052859Z"
    }
   },
   "outputs": [],
   "source": [
    "# enumerate - 1 position of the object and actual element from the list"
   ]
  },
  {
   "cell_type": "code",
   "execution_count": 61,
   "id": "39cd9e9a",
   "metadata": {
    "ExecuteTime": {
     "end_time": "2022-06-16T11:16:15.299669Z",
     "start_time": "2022-06-16T11:16:15.293673Z"
    }
   },
   "outputs": [
    {
     "name": "stdout",
     "output_type": "stream",
     "text": [
      "coefficent for cyl is 1.505351293830718\n",
      "coefficent for disp is 0.02196455340020894\n",
      "coefficent for hp is -0.043125202586347125\n",
      "coefficent for wt is -0.006570535611265039\n",
      "coefficent for acc is 0.032250777588345374\n",
      "coefficent for yr is 0.7964184454325701\n",
      "coefficent for car_type is 5.793714326425115\n",
      "coefficent for origin_asia is 2.133641860684333\n",
      "coefficent for origin_euro is 2.2305392772836337\n"
     ]
    }
   ],
   "source": [
    "model_coef = model.coef_\n",
    "for i , column_name in enumerate(X_train.columns):\n",
    "    print(f\"coefficent for {column_name} is {model_coef[i]}\")"
   ]
  },
  {
   "cell_type": "markdown",
   "id": "efc4b6d9",
   "metadata": {},
   "source": [
    "##  training and testing accuracy "
   ]
  },
  {
   "cell_type": "code",
   "execution_count": null,
   "id": "deeb210d",
   "metadata": {
    "ExecuteTime": {
     "end_time": "2022-06-16T11:51:18.023927Z",
     "start_time": "2022-06-16T11:51:18.013931Z"
    }
   },
   "outputs": [],
   "source": [
    "Y_train_pred = model.predict(X_train)\n",
    "Y_test_pred = model.predict(X_test)"
   ]
  },
  {
   "cell_type": "code",
   "execution_count": null,
   "id": "f34d6f0b",
   "metadata": {
    "ExecuteTime": {
     "end_time": "2022-06-16T11:52:56.258396Z",
     "start_time": "2022-06-16T11:52:56.252400Z"
    }
   },
   "outputs": [],
   "source": [
    "print(f\"training accuracy is{r2_score (Y_train , Y_train_pred)}\")"
   ]
  },
  {
   "cell_type": "code",
   "execution_count": null,
   "id": "b497cc8f",
   "metadata": {
    "ExecuteTime": {
     "end_time": "2022-06-16T11:54:34.895316Z",
     "start_time": "2022-06-16T11:54:34.889320Z"
    }
   },
   "outputs": [],
   "source": [
    "print (f\" testing accuracy is {r2_score(Y_test , Y_test_pred)}\")"
   ]
  },
  {
   "cell_type": "code",
   "execution_count": null,
   "id": "0d6bcae5",
   "metadata": {},
   "outputs": [],
   "source": []
  }
 ],
 "metadata": {
  "kernelspec": {
   "display_name": "Python 3 (ipykernel)",
   "language": "python",
   "name": "python3"
  },
  "language_info": {
   "codemirror_mode": {
    "name": "ipython",
    "version": 3
   },
   "file_extension": ".py",
   "mimetype": "text/x-python",
   "name": "python",
   "nbconvert_exporter": "python",
   "pygments_lexer": "ipython3",
   "version": "3.9.12"
  }
 },
 "nbformat": 4,
 "nbformat_minor": 5
}
