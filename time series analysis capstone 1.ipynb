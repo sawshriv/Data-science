{
 "cells": [
  {
   "cell_type": "code",
   "execution_count": 45,
   "id": "2f4ddc2a",
   "metadata": {},
   "outputs": [],
   "source": [
    "import pandas as pd\n",
    "import numpy as np\n",
    "from statsmodels.tsa.stattools import adfuller \n",
    "from statsmodels.graphics.tsaplots import plot_acf , plot_pacf\n",
    "from statsmodels.tsa.arima.model import ARIMA\n",
    "from statsmodels.tsa.statespace.sarimax import SARIMAX"
   ]
  },
  {
   "cell_type": "code",
   "execution_count": 2,
   "id": "3a6c63fd",
   "metadata": {},
   "outputs": [],
   "source": [
    "df = pd.read_csv('Time Series Data.csv')"
   ]
  },
  {
   "cell_type": "code",
   "execution_count": 3,
   "id": "19d7a411",
   "metadata": {
    "scrolled": true
   },
   "outputs": [
    {
     "data": {
      "text/html": [
       "<div>\n",
       "<style scoped>\n",
       "    .dataframe tbody tr th:only-of-type {\n",
       "        vertical-align: middle;\n",
       "    }\n",
       "\n",
       "    .dataframe tbody tr th {\n",
       "        vertical-align: top;\n",
       "    }\n",
       "\n",
       "    .dataframe thead th {\n",
       "        text-align: right;\n",
       "    }\n",
       "</style>\n",
       "<table border=\"1\" class=\"dataframe\">\n",
       "  <thead>\n",
       "    <tr style=\"text-align: right;\">\n",
       "      <th></th>\n",
       "      <th>Month</th>\n",
       "      <th>Perrin Freres monthly champagne sales millions ?64-?72</th>\n",
       "    </tr>\n",
       "  </thead>\n",
       "  <tbody>\n",
       "    <tr>\n",
       "      <th>0</th>\n",
       "      <td>1964-01</td>\n",
       "      <td>2815</td>\n",
       "    </tr>\n",
       "    <tr>\n",
       "      <th>1</th>\n",
       "      <td>1964-02</td>\n",
       "      <td>2672</td>\n",
       "    </tr>\n",
       "    <tr>\n",
       "      <th>2</th>\n",
       "      <td>1964-03</td>\n",
       "      <td>2755</td>\n",
       "    </tr>\n",
       "    <tr>\n",
       "      <th>3</th>\n",
       "      <td>1964-04</td>\n",
       "      <td>2721</td>\n",
       "    </tr>\n",
       "    <tr>\n",
       "      <th>4</th>\n",
       "      <td>1964-05</td>\n",
       "      <td>2946</td>\n",
       "    </tr>\n",
       "  </tbody>\n",
       "</table>\n",
       "</div>"
      ],
      "text/plain": [
       "     Month  Perrin Freres monthly champagne sales millions ?64-?72\n",
       "0  1964-01                                               2815     \n",
       "1  1964-02                                               2672     \n",
       "2  1964-03                                               2755     \n",
       "3  1964-04                                               2721     \n",
       "4  1964-05                                               2946     "
      ]
     },
     "execution_count": 3,
     "metadata": {},
     "output_type": "execute_result"
    }
   ],
   "source": [
    "df.head()"
   ]
  },
  {
   "cell_type": "code",
   "execution_count": 4,
   "id": "7e003c30",
   "metadata": {},
   "outputs": [],
   "source": [
    "df.columns = ['month','sales']"
   ]
  },
  {
   "cell_type": "code",
   "execution_count": 5,
   "id": "6498ab3a",
   "metadata": {},
   "outputs": [
    {
     "data": {
      "text/html": [
       "<div>\n",
       "<style scoped>\n",
       "    .dataframe tbody tr th:only-of-type {\n",
       "        vertical-align: middle;\n",
       "    }\n",
       "\n",
       "    .dataframe tbody tr th {\n",
       "        vertical-align: top;\n",
       "    }\n",
       "\n",
       "    .dataframe thead th {\n",
       "        text-align: right;\n",
       "    }\n",
       "</style>\n",
       "<table border=\"1\" class=\"dataframe\">\n",
       "  <thead>\n",
       "    <tr style=\"text-align: right;\">\n",
       "      <th></th>\n",
       "      <th>month</th>\n",
       "      <th>sales</th>\n",
       "    </tr>\n",
       "  </thead>\n",
       "  <tbody>\n",
       "    <tr>\n",
       "      <th>0</th>\n",
       "      <td>1964-01</td>\n",
       "      <td>2815</td>\n",
       "    </tr>\n",
       "    <tr>\n",
       "      <th>1</th>\n",
       "      <td>1964-02</td>\n",
       "      <td>2672</td>\n",
       "    </tr>\n",
       "    <tr>\n",
       "      <th>2</th>\n",
       "      <td>1964-03</td>\n",
       "      <td>2755</td>\n",
       "    </tr>\n",
       "    <tr>\n",
       "      <th>3</th>\n",
       "      <td>1964-04</td>\n",
       "      <td>2721</td>\n",
       "    </tr>\n",
       "    <tr>\n",
       "      <th>4</th>\n",
       "      <td>1964-05</td>\n",
       "      <td>2946</td>\n",
       "    </tr>\n",
       "  </tbody>\n",
       "</table>\n",
       "</div>"
      ],
      "text/plain": [
       "     month  sales\n",
       "0  1964-01   2815\n",
       "1  1964-02   2672\n",
       "2  1964-03   2755\n",
       "3  1964-04   2721\n",
       "4  1964-05   2946"
      ]
     },
     "execution_count": 5,
     "metadata": {},
     "output_type": "execute_result"
    }
   ],
   "source": [
    "df.head()"
   ]
  },
  {
   "cell_type": "code",
   "execution_count": 7,
   "id": "32cb57d9",
   "metadata": {},
   "outputs": [
    {
     "data": {
      "text/plain": [
       "(105, 2)"
      ]
     },
     "execution_count": 7,
     "metadata": {},
     "output_type": "execute_result"
    }
   ],
   "source": [
    "df.shape"
   ]
  },
  {
   "cell_type": "code",
   "execution_count": 8,
   "id": "f9dd1006",
   "metadata": {},
   "outputs": [],
   "source": [
    "df['month'] = pd.to_datetime(df['month'])"
   ]
  },
  {
   "cell_type": "code",
   "execution_count": 9,
   "id": "894a61bc",
   "metadata": {},
   "outputs": [
    {
     "data": {
      "text/plain": [
       "month    datetime64[ns]\n",
       "sales             int64\n",
       "dtype: object"
      ]
     },
     "execution_count": 9,
     "metadata": {},
     "output_type": "execute_result"
    }
   ],
   "source": [
    "df.dtypes"
   ]
  },
  {
   "cell_type": "code",
   "execution_count": 10,
   "id": "0a40f411",
   "metadata": {},
   "outputs": [],
   "source": [
    "df.set_index('month',inplace=True)"
   ]
  },
  {
   "cell_type": "code",
   "execution_count": 11,
   "id": "aab4f1b0",
   "metadata": {},
   "outputs": [
    {
     "data": {
      "text/html": [
       "<div>\n",
       "<style scoped>\n",
       "    .dataframe tbody tr th:only-of-type {\n",
       "        vertical-align: middle;\n",
       "    }\n",
       "\n",
       "    .dataframe tbody tr th {\n",
       "        vertical-align: top;\n",
       "    }\n",
       "\n",
       "    .dataframe thead th {\n",
       "        text-align: right;\n",
       "    }\n",
       "</style>\n",
       "<table border=\"1\" class=\"dataframe\">\n",
       "  <thead>\n",
       "    <tr style=\"text-align: right;\">\n",
       "      <th></th>\n",
       "      <th>sales</th>\n",
       "    </tr>\n",
       "    <tr>\n",
       "      <th>month</th>\n",
       "      <th></th>\n",
       "    </tr>\n",
       "  </thead>\n",
       "  <tbody>\n",
       "    <tr>\n",
       "      <th>1964-01-01</th>\n",
       "      <td>2815</td>\n",
       "    </tr>\n",
       "    <tr>\n",
       "      <th>1964-02-01</th>\n",
       "      <td>2672</td>\n",
       "    </tr>\n",
       "    <tr>\n",
       "      <th>1964-03-01</th>\n",
       "      <td>2755</td>\n",
       "    </tr>\n",
       "    <tr>\n",
       "      <th>1964-04-01</th>\n",
       "      <td>2721</td>\n",
       "    </tr>\n",
       "    <tr>\n",
       "      <th>1964-05-01</th>\n",
       "      <td>2946</td>\n",
       "    </tr>\n",
       "  </tbody>\n",
       "</table>\n",
       "</div>"
      ],
      "text/plain": [
       "            sales\n",
       "month            \n",
       "1964-01-01   2815\n",
       "1964-02-01   2672\n",
       "1964-03-01   2755\n",
       "1964-04-01   2721\n",
       "1964-05-01   2946"
      ]
     },
     "execution_count": 11,
     "metadata": {},
     "output_type": "execute_result"
    }
   ],
   "source": [
    "df.head()"
   ]
  },
  {
   "cell_type": "code",
   "execution_count": 12,
   "id": "1f15fb37",
   "metadata": {},
   "outputs": [
    {
     "data": {
      "text/plain": [
       "<AxesSubplot:xlabel='month'>"
      ]
     },
     "execution_count": 12,
     "metadata": {},
     "output_type": "execute_result"
    },
    {
     "data": {
      "image/png": "[encoded data removed]",
      "text/plain": [
       "<Figure size 432x288 with 1 Axes>"
      ]
     },
     "metadata": {
      "needs_background": "light"
     },
     "output_type": "display_data"
    }
   ],
   "source": [
    "df.plot()"
   ]
  },
  {
   "cell_type": "markdown",
   "id": "6273726b",
   "metadata": {},
   "source": [
    "#  poa \n",
    "1 the time series is not stationary\n",
    "2 we observe seasonality twice.\n",
    "    a. it falls in the mid ofthe year \n",
    "    b. it rises towards the end of year\n",
    "3 we see that there is auto-correlation in the data \n"
   ]
  },
  {
   "cell_type": "code",
   "execution_count": 13,
   "id": "b0705d1b",
   "metadata": {},
   "outputs": [],
   "source": [
    "#   two find and validate if the data is non-stationary we run  AD-Fuller test "
   ]
  },
  {
   "cell_type": "code",
   "execution_count": 15,
   "id": "54b9edc0",
   "metadata": {},
   "outputs": [],
   "source": [
    "ad1 = adfuller(df['sales'])"
   ]
  },
  {
   "cell_type": "code",
   "execution_count": 16,
   "id": "9fadf18e",
   "metadata": {},
   "outputs": [
    {
     "data": {
      "text/plain": [
       "(-1.8335930563276228,\n",
       " 0.363915771660245,\n",
       " 11,\n",
       " 93,\n",
       " {'1%': -3.502704609582561,\n",
       "  '5%': -2.8931578098779522,\n",
       "  '10%': -2.583636712914788},\n",
       " 1478.4633060594724)"
      ]
     },
     "execution_count": 16,
     "metadata": {},
     "output_type": "execute_result"
    }
   ],
   "source": [
    "ad1"
   ]
  },
  {
   "cell_type": "code",
   "execution_count": 17,
   "id": "0cc940de",
   "metadata": {},
   "outputs": [],
   "source": [
    "# 1 st value is adf test statistics *\n",
    "# 2nd value is p value\n",
    "# 3rd value is number of lags\n",
    "# 4th value is number of records without lags\n",
    "\n",
    "# Hypotheisis of adfuller test \n",
    "#1 null hypo- the data is non-stationary\n",
    "#2 alternative- hypo the data is stationary\n"
   ]
  },
  {
   "cell_type": "code",
   "execution_count": 18,
   "id": "f69377a4",
   "metadata": {},
   "outputs": [],
   "source": [
    "# in the above test run we can see that the p-value is greater than 0.05 and hence accepting the  null hypotheisis"
   ]
  },
  {
   "cell_type": "code",
   "execution_count": 19,
   "id": "006d442c",
   "metadata": {},
   "outputs": [],
   "source": [
    "# in order to make data stationary  taking first order difference "
   ]
  },
  {
   "cell_type": "code",
   "execution_count": 20,
   "id": "91d5e05b",
   "metadata": {},
   "outputs": [],
   "source": [
    "df['first_difference'] = df['sales'].shift(1)-df['sales']"
   ]
  },
  {
   "cell_type": "code",
   "execution_count": 22,
   "id": "0fc796bb",
   "metadata": {},
   "outputs": [
    {
     "data": {
      "text/html": [
       "<div>\n",
       "<style scoped>\n",
       "    .dataframe tbody tr th:only-of-type {\n",
       "        vertical-align: middle;\n",
       "    }\n",
       "\n",
       "    .dataframe tbody tr th {\n",
       "        vertical-align: top;\n",
       "    }\n",
       "\n",
       "    .dataframe thead th {\n",
       "        text-align: right;\n",
       "    }\n",
       "</style>\n",
       "<table border=\"1\" class=\"dataframe\">\n",
       "  <thead>\n",
       "    <tr style=\"text-align: right;\">\n",
       "      <th></th>\n",
       "      <th>sales</th>\n",
       "      <th>first_difference</th>\n",
       "    </tr>\n",
       "    <tr>\n",
       "      <th>month</th>\n",
       "      <th></th>\n",
       "      <th></th>\n",
       "    </tr>\n",
       "  </thead>\n",
       "  <tbody>\n",
       "    <tr>\n",
       "      <th>1964-01-01</th>\n",
       "      <td>2815</td>\n",
       "      <td>NaN</td>\n",
       "    </tr>\n",
       "    <tr>\n",
       "      <th>1964-02-01</th>\n",
       "      <td>2672</td>\n",
       "      <td>143.0</td>\n",
       "    </tr>\n",
       "    <tr>\n",
       "      <th>1964-03-01</th>\n",
       "      <td>2755</td>\n",
       "      <td>-83.0</td>\n",
       "    </tr>\n",
       "    <tr>\n",
       "      <th>1964-04-01</th>\n",
       "      <td>2721</td>\n",
       "      <td>34.0</td>\n",
       "    </tr>\n",
       "    <tr>\n",
       "      <th>1964-05-01</th>\n",
       "      <td>2946</td>\n",
       "      <td>-225.0</td>\n",
       "    </tr>\n",
       "    <tr>\n",
       "      <th>1964-06-01</th>\n",
       "      <td>3036</td>\n",
       "      <td>-90.0</td>\n",
       "    </tr>\n",
       "    <tr>\n",
       "      <th>1964-07-01</th>\n",
       "      <td>2282</td>\n",
       "      <td>754.0</td>\n",
       "    </tr>\n",
       "    <tr>\n",
       "      <th>1964-08-01</th>\n",
       "      <td>2212</td>\n",
       "      <td>70.0</td>\n",
       "    </tr>\n",
       "    <tr>\n",
       "      <th>1964-09-01</th>\n",
       "      <td>2922</td>\n",
       "      <td>-710.0</td>\n",
       "    </tr>\n",
       "    <tr>\n",
       "      <th>1964-10-01</th>\n",
       "      <td>4301</td>\n",
       "      <td>-1379.0</td>\n",
       "    </tr>\n",
       "  </tbody>\n",
       "</table>\n",
       "</div>"
      ],
      "text/plain": [
       "            sales  first_difference\n",
       "month                              \n",
       "1964-01-01   2815               NaN\n",
       "1964-02-01   2672             143.0\n",
       "1964-03-01   2755             -83.0\n",
       "1964-04-01   2721              34.0\n",
       "1964-05-01   2946            -225.0\n",
       "1964-06-01   3036             -90.0\n",
       "1964-07-01   2282             754.0\n",
       "1964-08-01   2212              70.0\n",
       "1964-09-01   2922            -710.0\n",
       "1964-10-01   4301           -1379.0"
      ]
     },
     "execution_count": 22,
     "metadata": {},
     "output_type": "execute_result"
    }
   ],
   "source": [
    "df.head(10)"
   ]
  },
  {
   "cell_type": "code",
   "execution_count": 24,
   "id": "7b96b8bc",
   "metadata": {},
   "outputs": [
    {
     "data": {
      "text/plain": [
       "<AxesSubplot:xlabel='month'>"
      ]
     },
     "execution_count": 24,
     "metadata": {},
     "output_type": "execute_result"
    },
    {
     "data": {
      "image/png": "[encoded data removed]",
      "text/plain": [
       "<Figure size 432x288 with 1 Axes>"
      ]
     },
     "metadata": {
      "needs_background": "light"
     },
     "output_type": "display_data"
    }
   ],
   "source": [
    "df['first_difference'].plot()"
   ]
  },
  {
   "cell_type": "code",
   "execution_count": 25,
   "id": "c43e7eda",
   "metadata": {},
   "outputs": [],
   "source": [
    "ad2 =adfuller(df['first_difference'].dropna())"
   ]
  },
  {
   "cell_type": "code",
   "execution_count": 26,
   "id": "98131cfd",
   "metadata": {},
   "outputs": [
    {
     "data": {
      "text/plain": [
       "(-7.189896448051034,\n",
       " 2.519620447386594e-10,\n",
       " 11,\n",
       " 92,\n",
       " {'1%': -3.503514579651927,\n",
       "  '5%': -2.893507960466837,\n",
       "  '10%': -2.583823615311909},\n",
       " 1466.8267262915888)"
      ]
     },
     "execution_count": 26,
     "metadata": {},
     "output_type": "execute_result"
    }
   ],
   "source": [
    "ad2"
   ]
  },
  {
   "cell_type": "code",
   "execution_count": 27,
   "id": "567ca584",
   "metadata": {},
   "outputs": [],
   "source": [
    "#  here we see that the p value is less than 0.05  hence acepting the alternate hypothesis"
   ]
  },
  {
   "cell_type": "code",
   "execution_count": 28,
   "id": "fc36568f",
   "metadata": {},
   "outputs": [],
   "source": [
    "# estimation of p ,q, d of the model \n",
    "# p stands for the order of the ar model example -ar1, ar2 , ar3  etc \n",
    "# q stands for moving average example - ma1 ,ma2 , ma3 etc\n",
    "# d stands for order of differntiation  ex - 1st order , 2nd order  etc"
   ]
  },
  {
   "cell_type": "code",
   "execution_count": 29,
   "id": "76afd8b9",
   "metadata": {},
   "outputs": [],
   "source": [
    "# in order to find out the above values we use acf (auto-corell function), p-acf is here (partial auto correl function)"
   ]
  },
  {
   "cell_type": "code",
   "execution_count": 31,
   "id": "3a1fa02a",
   "metadata": {},
   "outputs": [
    {
     "data": {
      "image/png": "[encoded data removed]",
      "text/plain": [
       "<Figure size 432x288 with 1 Axes>"
      ]
     },
     "execution_count": 31,
     "metadata": {},
     "output_type": "execute_result"
    },
    {
     "data": {
      "image/png": "[encoded data removed]",
      "text/plain": [
       "<Figure size 432x288 with 1 Axes>"
      ]
     },
     "metadata": {
      "needs_background": "light"
     },
     "output_type": "display_data"
    }
   ],
   "source": [
    "plot_acf(df['first_difference'].dropna())"
   ]
  },
  {
   "cell_type": "code",
   "execution_count": 32,
   "id": "32f955f5",
   "metadata": {},
   "outputs": [],
   "source": [
    "#  we consider acf plot as the best identification method to find out the q-value"
   ]
  },
  {
   "cell_type": "code",
   "execution_count": 33,
   "id": "2eff207c",
   "metadata": {},
   "outputs": [
    {
     "name": "stderr",
     "output_type": "stream",
     "text": [
      "C:\\Users\\Device Computer\\anaconda3\\lib\\site-packages\\statsmodels\\graphics\\tsaplots.py:348: FutureWarning: The default method 'yw' can produce PACF values outside of the [-1,1] interval. After 0.13, the default will change tounadjusted Yule-Walker ('ywm'). You can use this method now by setting method='ywm'.\n",
      "  warnings.warn(\n"
     ]
    },
    {
     "data": {
      "image/png": "[encoded data removed]",
      "text/plain": [
       "<Figure size 432x288 with 1 Axes>"
      ]
     },
     "execution_count": 33,
     "metadata": {},
     "output_type": "execute_result"
    },
    {
     "data": {
      "image/png": "[encoded data removed]",
      "text/plain": [
       "<Figure size 432x288 with 1 Axes>"
      ]
     },
     "metadata": {
      "needs_background": "light"
     },
     "output_type": "display_data"
    }
   ],
   "source": [
    "plot_pacf(df['first_difference'].dropna())"
   ]
  },
  {
   "cell_type": "code",
   "execution_count": 34,
   "id": "e12d0b59",
   "metadata": {},
   "outputs": [],
   "source": [
    "#  we consider the pacf plot as the best identification method for the p-value"
   ]
  },
  {
   "cell_type": "code",
   "execution_count": 36,
   "id": "e9f6339d",
   "metadata": {},
   "outputs": [],
   "source": [
    "# fitting the model"
   ]
  },
  {
   "cell_type": "code",
   "execution_count": 39,
   "id": "44d0f51c",
   "metadata": {},
   "outputs": [
    {
     "name": "stderr",
     "output_type": "stream",
     "text": [
      "C:\\Users\\Device Computer\\anaconda3\\lib\\site-packages\\statsmodels\\tsa\\base\\tsa_model.py:471: ValueWarning: No frequency information was provided, so inferred frequency MS will be used.\n",
      "  self._init_dates(dates, freq)\n"
     ]
    }
   ],
   "source": [
    "arima = ARIMA(df['sales'],order = (1,1,1))"
   ]
  },
  {
   "cell_type": "code",
   "execution_count": 40,
   "id": "ff4a3b1e",
   "metadata": {},
   "outputs": [],
   "source": [
    "arima = arima.fit()"
   ]
  },
  {
   "cell_type": "code",
   "execution_count": 41,
   "id": "b0d4fef2",
   "metadata": {},
   "outputs": [],
   "source": [
    "df['forecast']=arima.predict(start = 95,end = 120, dynamic = True)"
   ]
  },
  {
   "cell_type": "code",
   "execution_count": 43,
   "id": "47e8ac3c",
   "metadata": {},
   "outputs": [
    {
     "data": {
      "text/plain": [
       "<AxesSubplot:xlabel='month'>"
      ]
     },
     "execution_count": 43,
     "metadata": {},
     "output_type": "execute_result"
    },
    {
     "data": {
      "image/png": "[encoded data removed]",
      "text/plain": [
       "<Figure size 432x288 with 1 Axes>"
      ]
     },
     "metadata": {
      "needs_background": "light"
     },
     "output_type": "display_data"
    }
   ],
   "source": [
    "df[['sales','forecast']].plot()"
   ]
  },
  {
   "cell_type": "code",
   "execution_count": 44,
   "id": "d8d584fe",
   "metadata": {},
   "outputs": [],
   "source": [
    "#  as the above model is not taking seasonality into consideration using sarimax"
   ]
  },
  {
   "cell_type": "code",
   "execution_count": 46,
   "id": "c49599d5",
   "metadata": {},
   "outputs": [
    {
     "name": "stderr",
     "output_type": "stream",
     "text": [
      "C:\\Users\\Device Computer\\anaconda3\\lib\\site-packages\\statsmodels\\tsa\\base\\tsa_model.py:471: ValueWarning: No frequency information was provided, so inferred frequency MS will be used.\n",
      "  self._init_dates(dates, freq)\n"
     ]
    }
   ],
   "source": [
    "sarimax = SARIMAX(df['sales'],order= (1,1,1),seasonal_order= (1,1,1,12))"
   ]
  },
  {
   "cell_type": "code",
   "execution_count": 47,
   "id": "82439198",
   "metadata": {},
   "outputs": [],
   "source": [
    "sarimax = sarimax.fit()"
   ]
  },
  {
   "cell_type": "code",
   "execution_count": 48,
   "id": "be0a85cb",
   "metadata": {},
   "outputs": [],
   "source": [
    "df['seasonal_forecast']=sarimax.predict(start = 95 ,end = 105 ,dynamic =True)"
   ]
  },
  {
   "cell_type": "code",
   "execution_count": 49,
   "id": "fb24ab9c",
   "metadata": {},
   "outputs": [
    {
     "data": {
      "text/plain": [
       "<AxesSubplot:xlabel='month'>"
      ]
     },
     "execution_count": 49,
     "metadata": {},
     "output_type": "execute_result"
    },
    {
     "data": {
      "image/png": "[encoded data removed]",
      "text/plain": [
       "<Figure size 432x288 with 1 Axes>"
      ]
     },
     "metadata": {
      "needs_background": "light"
     },
     "output_type": "display_data"
    }
   ],
   "source": [
    "df[['sales','seasonal_forecast']].plot()"
   ]
  },
  {
   "cell_type": "markdown",
   "id": "9bf6051e",
   "metadata": {},
   "source": [
    "##  future predictions"
   ]
  },
  {
   "cell_type": "code",
   "execution_count": 58,
   "id": "8911527a",
   "metadata": {},
   "outputs": [
    {
     "data": {
      "text/plain": [
       "Timestamp('1972-01-01 00:00:00')"
      ]
     },
     "execution_count": 58,
     "metadata": {},
     "output_type": "execute_result"
    }
   ],
   "source": [
    "df.index[-9]"
   ]
  },
  {
   "cell_type": "code",
   "execution_count": 67,
   "id": "62524d71",
   "metadata": {},
   "outputs": [],
   "source": [
    "future_days = [df.index[-9]+pd.tseries.offsets.DateOffset(month =x)for x  in range(13)]"
   ]
  },
  {
   "cell_type": "code",
   "execution_count": 69,
   "id": "2d554201",
   "metadata": {},
   "outputs": [
    {
     "data": {
      "text/plain": [
       "[Timestamp('1972-10-01 00:00:00'),\n",
       " Timestamp('1972-11-01 00:00:00'),\n",
       " Timestamp('1972-12-01 00:00:00')]"
      ]
     },
     "execution_count": 69,
     "metadata": {},
     "output_type": "execute_result"
    }
   ],
   "source": [
    "future_days[10:]"
   ]
  },
  {
   "cell_type": "code",
   "execution_count": 71,
   "id": "7e8486d3",
   "metadata": {},
   "outputs": [],
   "source": [
    "new_df = pd.DataFrame(index = future_days[10:],columns =df.columns)"
   ]
  },
  {
   "cell_type": "code",
   "execution_count": 72,
   "id": "2b0df2cb",
   "metadata": {},
   "outputs": [
    {
     "data": {
      "text/html": [
       "<div>\n",
       "<style scoped>\n",
       "    .dataframe tbody tr th:only-of-type {\n",
       "        vertical-align: middle;\n",
       "    }\n",
       "\n",
       "    .dataframe tbody tr th {\n",
       "        vertical-align: top;\n",
       "    }\n",
       "\n",
       "    .dataframe thead th {\n",
       "        text-align: right;\n",
       "    }\n",
       "</style>\n",
       "<table border=\"1\" class=\"dataframe\">\n",
       "  <thead>\n",
       "    <tr style=\"text-align: right;\">\n",
       "      <th></th>\n",
       "      <th>sales</th>\n",
       "      <th>first_difference</th>\n",
       "      <th>forecast</th>\n",
       "      <th>seasonal_forecast</th>\n",
       "    </tr>\n",
       "  </thead>\n",
       "  <tbody>\n",
       "    <tr>\n",
       "      <th>1972-10-01</th>\n",
       "      <td>NaN</td>\n",
       "      <td>NaN</td>\n",
       "      <td>NaN</td>\n",
       "      <td>NaN</td>\n",
       "    </tr>\n",
       "    <tr>\n",
       "      <th>1972-11-01</th>\n",
       "      <td>NaN</td>\n",
       "      <td>NaN</td>\n",
       "      <td>NaN</td>\n",
       "      <td>NaN</td>\n",
       "    </tr>\n",
       "    <tr>\n",
       "      <th>1972-12-01</th>\n",
       "      <td>NaN</td>\n",
       "      <td>NaN</td>\n",
       "      <td>NaN</td>\n",
       "      <td>NaN</td>\n",
       "    </tr>\n",
       "  </tbody>\n",
       "</table>\n",
       "</div>"
      ],
      "text/plain": [
       "           sales first_difference forecast seasonal_forecast\n",
       "1972-10-01   NaN              NaN      NaN               NaN\n",
       "1972-11-01   NaN              NaN      NaN               NaN\n",
       "1972-12-01   NaN              NaN      NaN               NaN"
      ]
     },
     "execution_count": 72,
     "metadata": {},
     "output_type": "execute_result"
    }
   ],
   "source": [
    "new_df"
   ]
  },
  {
   "cell_type": "code",
   "execution_count": 73,
   "id": "c446c00c",
   "metadata": {},
   "outputs": [],
   "source": [
    "new_df =  pd.concat([df,new_df])"
   ]
  },
  {
   "cell_type": "code",
   "execution_count": 75,
   "id": "bd571e80",
   "metadata": {},
   "outputs": [
    {
     "data": {
      "text/html": [
       "<div>\n",
       "<style scoped>\n",
       "    .dataframe tbody tr th:only-of-type {\n",
       "        vertical-align: middle;\n",
       "    }\n",
       "\n",
       "    .dataframe tbody tr th {\n",
       "        vertical-align: top;\n",
       "    }\n",
       "\n",
       "    .dataframe thead th {\n",
       "        text-align: right;\n",
       "    }\n",
       "</style>\n",
       "<table border=\"1\" class=\"dataframe\">\n",
       "  <thead>\n",
       "    <tr style=\"text-align: right;\">\n",
       "      <th></th>\n",
       "      <th>sales</th>\n",
       "      <th>first_difference</th>\n",
       "      <th>forecast</th>\n",
       "      <th>seasonal_forecast</th>\n",
       "    </tr>\n",
       "  </thead>\n",
       "  <tbody>\n",
       "    <tr>\n",
       "      <th>1972-08-01</th>\n",
       "      <td>1413</td>\n",
       "      <td>2885.0</td>\n",
       "      <td>5339.988705</td>\n",
       "      <td>1911.734414</td>\n",
       "    </tr>\n",
       "    <tr>\n",
       "      <th>1972-09-01</th>\n",
       "      <td>5877</td>\n",
       "      <td>-4464.0</td>\n",
       "      <td>5337.950691</td>\n",
       "      <td>6037.406199</td>\n",
       "    </tr>\n",
       "    <tr>\n",
       "      <th>1972-10-01</th>\n",
       "      <td>NaN</td>\n",
       "      <td>NaN</td>\n",
       "      <td>NaN</td>\n",
       "      <td>NaN</td>\n",
       "    </tr>\n",
       "    <tr>\n",
       "      <th>1972-11-01</th>\n",
       "      <td>NaN</td>\n",
       "      <td>NaN</td>\n",
       "      <td>NaN</td>\n",
       "      <td>NaN</td>\n",
       "    </tr>\n",
       "    <tr>\n",
       "      <th>1972-12-01</th>\n",
       "      <td>NaN</td>\n",
       "      <td>NaN</td>\n",
       "      <td>NaN</td>\n",
       "      <td>NaN</td>\n",
       "    </tr>\n",
       "  </tbody>\n",
       "</table>\n",
       "</div>"
      ],
      "text/plain": [
       "           sales first_difference     forecast seasonal_forecast\n",
       "1972-08-01  1413           2885.0  5339.988705       1911.734414\n",
       "1972-09-01  5877          -4464.0  5337.950691       6037.406199\n",
       "1972-10-01   NaN              NaN          NaN               NaN\n",
       "1972-11-01   NaN              NaN          NaN               NaN\n",
       "1972-12-01   NaN              NaN          NaN               NaN"
      ]
     },
     "execution_count": 75,
     "metadata": {},
     "output_type": "execute_result"
    }
   ],
   "source": [
    "new_df.tail()"
   ]
  },
  {
   "cell_type": "code",
   "execution_count": 78,
   "id": "8c47db7e",
   "metadata": {},
   "outputs": [],
   "source": [
    "new_df['seasonal_forecast']=sarimax.predict(start = 105 ,end = 110 ,dynamic =True)"
   ]
  },
  {
   "cell_type": "code",
   "execution_count": 79,
   "id": "7f45a9b2",
   "metadata": {},
   "outputs": [
    {
     "data": {
      "text/html": [
       "<div>\n",
       "<style scoped>\n",
       "    .dataframe tbody tr th:only-of-type {\n",
       "        vertical-align: middle;\n",
       "    }\n",
       "\n",
       "    .dataframe tbody tr th {\n",
       "        vertical-align: top;\n",
       "    }\n",
       "\n",
       "    .dataframe thead th {\n",
       "        text-align: right;\n",
       "    }\n",
       "</style>\n",
       "<table border=\"1\" class=\"dataframe\">\n",
       "  <thead>\n",
       "    <tr style=\"text-align: right;\">\n",
       "      <th></th>\n",
       "      <th>sales</th>\n",
       "      <th>first_difference</th>\n",
       "      <th>forecast</th>\n",
       "      <th>seasonal_forecast</th>\n",
       "    </tr>\n",
       "  </thead>\n",
       "  <tbody>\n",
       "    <tr>\n",
       "      <th>1972-08-01</th>\n",
       "      <td>1413</td>\n",
       "      <td>2885.0</td>\n",
       "      <td>5339.988705</td>\n",
       "      <td>NaN</td>\n",
       "    </tr>\n",
       "    <tr>\n",
       "      <th>1972-09-01</th>\n",
       "      <td>5877</td>\n",
       "      <td>-4464.0</td>\n",
       "      <td>5337.950691</td>\n",
       "      <td>NaN</td>\n",
       "    </tr>\n",
       "    <tr>\n",
       "      <th>1972-10-01</th>\n",
       "      <td>NaN</td>\n",
       "      <td>NaN</td>\n",
       "      <td>NaN</td>\n",
       "      <td>7023.698651</td>\n",
       "    </tr>\n",
       "    <tr>\n",
       "      <th>1972-11-01</th>\n",
       "      <td>NaN</td>\n",
       "      <td>NaN</td>\n",
       "      <td>NaN</td>\n",
       "      <td>9996.176128</td>\n",
       "    </tr>\n",
       "    <tr>\n",
       "      <th>1972-12-01</th>\n",
       "      <td>NaN</td>\n",
       "      <td>NaN</td>\n",
       "      <td>NaN</td>\n",
       "      <td>12891.999038</td>\n",
       "    </tr>\n",
       "  </tbody>\n",
       "</table>\n",
       "</div>"
      ],
      "text/plain": [
       "           sales first_difference     forecast  seasonal_forecast\n",
       "1972-08-01  1413           2885.0  5339.988705                NaN\n",
       "1972-09-01  5877          -4464.0  5337.950691                NaN\n",
       "1972-10-01   NaN              NaN          NaN        7023.698651\n",
       "1972-11-01   NaN              NaN          NaN        9996.176128\n",
       "1972-12-01   NaN              NaN          NaN       12891.999038"
      ]
     },
     "execution_count": 79,
     "metadata": {},
     "output_type": "execute_result"
    }
   ],
   "source": [
    "new_df.tail()"
   ]
  },
  {
   "cell_type": "code",
   "execution_count": null,
   "id": "f6e3945a",
   "metadata": {},
   "outputs": [],
   "source": []
  }
 ],
 "metadata": {
  "kernelspec": {
   "display_name": "Python 3 (ipykernel)",
   "language": "python",
   "name": "python3"
  },
  "language_info": {
   "codemirror_mode": {
    "name": "ipython",
    "version": 3
   },
   "file_extension": ".py",
   "mimetype": "text/x-python",
   "name": "python",
   "nbconvert_exporter": "python",
   "pygments_lexer": "ipython3",
   "version": "3.9.12"
  }
 },
 "nbformat": 4,
 "nbformat_minor": 5
}
